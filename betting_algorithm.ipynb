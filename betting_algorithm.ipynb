{
 "cells": [
  {
   "cell_type": "code",
   "execution_count": 4,
   "metadata": {},
   "outputs": [],
   "source": [
    "import matplotlib.pyplot as plt\n",
    "import numpy as np\n",
    "import pandas as pd"
   ]
  },
  {
   "cell_type": "markdown",
   "metadata": {},
   "source": [
    "#### Data used for betting has been precomputed. Teams and dates are given for reference but are not relevant to the calculation. Week is provided for the ability to compare performance by week in the season as the scoring algorithm performs better later in the season. All playoff games are given a week value of 19. The scores in the score column are calculated by an algorithm. A positive value represents the home team is predicted to be more likely to win, and a negative value represents the away team is predicted to be more likely to win. The higher the absolute value, the higher the probability of that team winning."
   ]
  },
  {
   "cell_type": "code",
   "execution_count": 2,
   "metadata": {},
   "outputs": [
    {
     "data": {
      "text/html": [
       "<div>\n",
       "<style scoped>\n",
       "    .dataframe tbody tr th:only-of-type {\n",
       "        vertical-align: middle;\n",
       "    }\n",
       "\n",
       "    .dataframe tbody tr th {\n",
       "        vertical-align: top;\n",
       "    }\n",
       "\n",
       "    .dataframe thead th {\n",
       "        text-align: right;\n",
       "    }\n",
       "</style>\n",
       "<table border=\"1\" class=\"dataframe\">\n",
       "  <thead>\n",
       "    <tr style=\"text-align: right;\">\n",
       "      <th></th>\n",
       "      <th>home_team</th>\n",
       "      <th>away_team</th>\n",
       "      <th>date</th>\n",
       "      <th>week</th>\n",
       "      <th>score</th>\n",
       "      <th>home_b</th>\n",
       "      <th>away_b</th>\n",
       "      <th>target</th>\n",
       "    </tr>\n",
       "  </thead>\n",
       "  <tbody>\n",
       "    <tr>\n",
       "      <th>0</th>\n",
       "      <td>gnb</td>\n",
       "      <td>chi</td>\n",
       "      <td>2011-01-02</td>\n",
       "      <td>17</td>\n",
       "      <td>0.317287</td>\n",
       "      <td>0.181818</td>\n",
       "      <td>4.000000</td>\n",
       "      <td>1</td>\n",
       "    </tr>\n",
       "    <tr>\n",
       "      <th>1</th>\n",
       "      <td>gnb</td>\n",
       "      <td>cle</td>\n",
       "      <td>2013-10-20</td>\n",
       "      <td>7</td>\n",
       "      <td>0.818623</td>\n",
       "      <td>0.222222</td>\n",
       "      <td>3.300000</td>\n",
       "      <td>1</td>\n",
       "    </tr>\n",
       "    <tr>\n",
       "      <th>2</th>\n",
       "      <td>atl</td>\n",
       "      <td>nor</td>\n",
       "      <td>2020-12-06</td>\n",
       "      <td>13</td>\n",
       "      <td>-0.505128</td>\n",
       "      <td>1.190000</td>\n",
       "      <td>0.694444</td>\n",
       "      <td>0</td>\n",
       "    </tr>\n",
       "    <tr>\n",
       "      <th>3</th>\n",
       "      <td>sea</td>\n",
       "      <td>nwe</td>\n",
       "      <td>2020-09-20</td>\n",
       "      <td>2</td>\n",
       "      <td>0.175597</td>\n",
       "      <td>0.465116</td>\n",
       "      <td>1.750000</td>\n",
       "      <td>1</td>\n",
       "    </tr>\n",
       "    <tr>\n",
       "      <th>4</th>\n",
       "      <td>was</td>\n",
       "      <td>nyg</td>\n",
       "      <td>2020-11-08</td>\n",
       "      <td>9</td>\n",
       "      <td>0.055124</td>\n",
       "      <td>0.694444</td>\n",
       "      <td>1.190000</td>\n",
       "      <td>0</td>\n",
       "    </tr>\n",
       "  </tbody>\n",
       "</table>\n",
       "</div>"
      ],
      "text/plain": [
       "  home_team away_team        date  week     score    home_b    away_b  target\n",
       "0       gnb       chi  2011-01-02    17  0.317287  0.181818  4.000000       1\n",
       "1       gnb       cle  2013-10-20     7  0.818623  0.222222  3.300000       1\n",
       "2       atl       nor  2020-12-06    13 -0.505128  1.190000  0.694444       0\n",
       "3       sea       nwe  2020-09-20     2  0.175597  0.465116  1.750000       1\n",
       "4       was       nyg  2020-11-08     9  0.055124  0.694444  1.190000       0"
      ]
     },
     "execution_count": 2,
     "metadata": {},
     "output_type": "execute_result"
    }
   ],
   "source": [
    "train_df = pd.read_csv('train_data.csv')\n",
    "test_df = pd.read_csv('test_data.csv')\n",
    "val_df = pd.read_csv('val_data.csv')\n",
    "\n",
    "train_df.head()"
   ]
  },
  {
   "cell_type": "markdown",
   "metadata": {},
   "source": [
    "#### For this strategy picture a square matrix where the top left is the 0th percentile of scores and home bet payouts and the bottom right is the 100th percentile. Values in this matrix represent the percent of the bankroll to be bet. Positive values denote the value to bet on the home team, and negative values denote the value to bet on the away team. The figure below is a visual representation of this system. Personal risk management allows a maximum of 25% of the bankroll to be bet on games - any values for the maximum and minimum could be chosen. This could also be asymetric where more can be bet on one side. On average, the home team wins about 56% of the time, so it may make more sense to have a higher maximum bet for the home team than the away team. Testing will be done to find the optimal bet sizes up to 25% of the bankroll for the maximum bet."
   ]
  },
  {
   "cell_type": "code",
   "execution_count": 18,
   "metadata": {},
   "outputs": [
    {
     "data": {
      "image/png": "[encoded data removed]",
      "text/plain": [
       "<Figure size 640x480 with 2 Axes>"
      ]
     },
     "metadata": {},
     "output_type": "display_data"
    }
   ],
   "source": [
    "arr = [\n",
    "    [-0.25, -0.125, 0],\n",
    "    [-0.125, 0, 0.125],\n",
    "    [0, 0.125, 0.25]\n",
    "]\n",
    "\n",
    "plt.figure()\n",
    "plt.imshow(arr, cmap='seismic')\n",
    "plt.colorbar()\n",
    "plt.yticks([])\n",
    "plt.xticks([])\n",
    "plt.show();"
   ]
  },
  {
   "cell_type": "markdown",
   "metadata": {},
   "source": [
    "#### The implementation of the above system is done on the training data. Maximum and minimum bet sizes are set. The mid point is found. The step size is computed - the step size can be thought of as stepping through the matrix. The fraction of the bankroll to bet is the minimum bet + the step size *  the score percentile + the step size * home payout percentile. This is equivalent to the above matrix."
   ]
  },
  {
   "cell_type": "code",
   "execution_count": 3,
   "metadata": {},
   "outputs": [
    {
     "name": "stdout",
     "output_type": "stream",
     "text": [
      "0.0 0.04 1.0\n",
      "0.01 0.04 1.001\n",
      "0.02 0.05 1.001\n",
      "0.03 0.04 1.002\n",
      "0.04 0.05 1.003\n",
      "0.05 0.06 1.003\n",
      "0.06 0.07 1.004\n",
      "0.07 0.09 1.004\n",
      "0.08 0.1 1.005\n",
      "0.09 0.11 1.006\n",
      "0.1 0.11 1.006\n",
      "0.11 0.12 1.007\n",
      "0.12 0.13 1.007\n",
      "0.13 0.14 1.008\n",
      "0.14 0.15 1.008\n",
      "0.15 0.18 1.009\n",
      "0.16 0.18 1.009\n",
      "0.17 0.19 1.01\n",
      "0.18 0.2 1.01\n",
      "0.19 0.21 1.01\n",
      "0.2 0.22 1.011\n",
      "0.21 0.24 1.011\n",
      "0.22 0.23 1.012\n",
      "0.23 0.24 1.012\n",
      "0.24 0.25 1.013\n",
      "0.25 0.25 1.013\n"
     ]
    }
   ],
   "source": [
    "# Precompute the necessary percentages for each game\n",
    "train_df['score_pct'] = train_df.score.rank(pct=True)\n",
    "train_df['b_pct'] = train_df.home_b.rank(pct=True)\n",
    "\n",
    "starting_bal = 100\n",
    "\n",
    "# Test each combination of minimum and maximum bets in 1% increments\n",
    "for a in np.arange(0, 0.26, 0.01):\n",
    "    best_bal = -np.inf\n",
    "    best_b = np.nan\n",
    "    for b in np.arange(0, 0.26, 0.01):\n",
    "        bal = starting_bal\n",
    "\n",
    "        # max_bet would be home, and min_bet would be away\n",
    "        max_bet = a\n",
    "        min_bet = -b\n",
    "\n",
    "        mid = (max_bet + min_bet) / 2\n",
    "\n",
    "        step = (max_bet - mid)\n",
    "\n",
    "        for _, game in train_df.iterrows():\n",
    "            # Use precomputed values\n",
    "            score_pct = game['score_pct']\n",
    "            b_pct = game['b_pct']\n",
    "\n",
    "            # Calculate betting fraction and bet size\n",
    "            bet_frac = min_bet + step * (score_pct + b_pct)\n",
    "            # round to nearest $5\n",
    "            bet = round(abs(bet_frac * bal / 5)) * 5\n",
    "\n",
    "            # Update balance based on the result of the bet\n",
    "            if bet_frac > 0 and game.target == 1:\n",
    "                bal += bet * game.home_b\n",
    "            elif bet_frac < 0 and game.target == 0:\n",
    "                bal += bet * game.away_b\n",
    "            else:\n",
    "                bal -= bet\n",
    "\n",
    "        if bal > best_bal:\n",
    "            best_bal = bal\n",
    "            best_b = b\n",
    "    \n",
    "    # Geometric mean is shown to account for compounding\n",
    "    print(a, best_b, round((best_bal / starting_bal) ** (1 / len(train_df)), 3))\n"
   ]
  },
  {
   "cell_type": "markdown",
   "metadata": {},
   "source": [
    "#### As can be seen from the above testing, there is an increasing trend where a larger maximum and minimum bet size allow for more profit. The minimum bet size should be roughly the same in absolute value as the maximum bet. The next step will be to test on the testing and validation data sets."
   ]
  },
  {
   "cell_type": "code",
   "execution_count": 20,
   "metadata": {},
   "outputs": [
    {
     "name": "stdout",
     "output_type": "stream",
     "text": [
      "1.89% profit per game\n"
     ]
    }
   ],
   "source": [
    "count = len(train_df)\n",
    "bal = 100\n",
    "starting_bal = bal\n",
    "\n",
    "max_bet = .25\n",
    "min_bet = -.25\n",
    "\n",
    "mid = (max_bet + min_bet) / 2\n",
    "\n",
    "step = (max_bet - mid)\n",
    "\n",
    "for _, game in test_df.iterrows():\n",
    "    score_pct = (game.score > train_df.score).sum() / count\n",
    "    b_pct = (game.home_b > train_df.home_b).sum() / count\n",
    "    \n",
    "    bet_frac = min_bet + step * (score_pct + b_pct)\n",
    "    # round to nearest $5\n",
    "    bet = round(abs(bet_frac * bal / 5)) * 5\n",
    "\n",
    "    if bal <= 0:\n",
    "        print('Broke')\n",
    "        break\n",
    "\n",
    "    if bet_frac > 0 and game.target == 1:\n",
    "        bal += bet * game.home_b\n",
    "    elif bet_frac < 0 and game.target == 0:\n",
    "        bal += bet * game.away_b\n",
    "    else:\n",
    "        bal -= bet\n",
    "profit = (bal / starting_bal) ** (1 / len(test_df)) - 1\n",
    "print(f'{round(100 * profit, 2)}% profit per game')"
   ]
  },
  {
   "cell_type": "code",
   "execution_count": 24,
   "metadata": {},
   "outputs": [
    {
     "name": "stdout",
     "output_type": "stream",
     "text": [
      "1.22% profit per game\n",
      "Final balance: $2556.51\n"
     ]
    }
   ],
   "source": [
    "count = len(train_df)\n",
    "bal = 100\n",
    "starting_bal = bal\n",
    "\n",
    "max_bet = .25\n",
    "min_bet = -.25\n",
    "\n",
    "mid = (max_bet + min_bet) / 2\n",
    "\n",
    "step = (max_bet - mid)\n",
    "\n",
    "max_actual_bet = 0\n",
    "\n",
    "for _, game in val_df.iterrows():\n",
    "    score_pct = (game.score > train_df.score).sum() / count\n",
    "    b_pct = (game.home_b > train_df.home_b).sum() / count\n",
    "    \n",
    "    bet_frac = min_bet + step * (score_pct + b_pct)\n",
    "    # round bet to nearest $5\n",
    "    bet = round(abs(bet_frac * bal / 5)) * 5\n",
    "\n",
    "    if abs(bet_frac) > max_actual_bet:\n",
    "        max_actual_bet = abs(bet_frac)\n",
    "\n",
    "    if bal <= 0:\n",
    "        print('Broke')\n",
    "        break\n",
    "\n",
    "    if bet_frac > 0 and game.target == 1:\n",
    "        bal += bet * game.home_b\n",
    "    elif bet_frac < 0 and game.target == 0:\n",
    "        bal += bet * game.away_b\n",
    "    else:\n",
    "        bal -= bet\n",
    "\n",
    "profit = (bal /starting_bal) ** (1 / len(val_df)) - 1\n",
    "print(f'{round(100 * profit, 2)}% profit per game')\n",
    "print(f'Final balance: ${round(bal, 2)}')"
   ]
  },
  {
   "cell_type": "markdown",
   "metadata": {},
   "source": [
    "#### Across all data sets around 1.2% - 1.9% profit is made on average per game. Since this is calculated using the geometric mean, the value is cumulative. Using this system in 2023 would have resulted in a starting bankroll of $100 turning into $2556.51 assuming games were consecutive. Of course, games are not consecutive, so testing for optimization for concurrent games will need to be done; however, this serves as a starting point. Additionally, because training, testing, and validation are all similar in returns, overfitting should not be expected, so this model will be used during the 2024 season to see if similar returns can be made. During development of the scoring algorithm care was taken to avoid overfitting as well."
   ]
  }
 ],
 "metadata": {
  "kernelspec": {
   "display_name": "Python 3",
   "language": "python",
   "name": "python3"
  },
  "language_info": {
   "codemirror_mode": {
    "name": "ipython",
    "version": 3
   },
   "file_extension": ".py",
   "mimetype": "text/x-python",
   "name": "python",
   "nbconvert_exporter": "python",
   "pygments_lexer": "ipython3",
   "version": "3.11.2"
  }
 },
 "nbformat": 4,
 "nbformat_minor": 2
}
